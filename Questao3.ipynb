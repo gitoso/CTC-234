{
  "nbformat": 4,
  "nbformat_minor": 0,
  "metadata": {
    "colab": {
      "name": "Questao3.ipynb",
      "provenance": [],
      "collapsed_sections": []
    },
    "kernelspec": {
      "name": "python3",
      "display_name": "Python 3"
    }
  },
  "cells": [
    {
      "cell_type": "code",
      "metadata": {
        "id": "7S912FScQubH",
        "colab_type": "code",
        "colab": {}
      },
      "source": [
        "#Imports\n",
        "\n",
        "import lightgbm as lgbm\n",
        "from graphviz import Digraph\n",
        "import pydotplus\n",
        "import networkx\n",
        "import sys\n",
        "import matplotlib.pyplot as plt\n",
        "from Automata import *\n",
        "from IPython.display import Image, display"
      ],
      "execution_count": 0,
      "outputs": []
    },
    {
      "cell_type": "code",
      "metadata": {
        "id": "8mivLoaURHkO",
        "colab_type": "code",
        "outputId": "6fb4f19b-5d18-426a-c989-b270c90e37df",
        "colab": {
          "base_uri": "https://localhost:8080/",
          "height": 782
        }
      },
      "source": [
        "#Entrada 1\n",
        "teste_1 = Automata()\n",
        "\n",
        "# Inicializa os estados S0 e S1 (sendo S1 um estado final)\n",
        "S0 = State('0')\n",
        "S1 = State('1', final=True)\n",
        "S2 = State('2')\n",
        "S3 = State('3')\n",
        "S4 = State('4')\n",
        "S5 = State('5')\n",
        "S6 = State('6')\n",
        "\n",
        "# Adiciona os estados à e-NFA\n",
        "teste_1.set_initial_state(S0)\n",
        "teste_1.add_state(S1)\n",
        "teste_1.add_state(S2)\n",
        "teste_1.add_state(S3)\n",
        "teste_1.add_state(S4)\n",
        "teste_1.add_state(S5)\n",
        "teste_1.add_state(S6)\n",
        "\n",
        "\n",
        "# Adiciona as transições da e-NFA\n",
        "teste_1.add_transition(S0, S3, '&')\n",
        "teste_1.add_transition(S3, S3, 'a,b')\n",
        "teste_1.add_transition(S3, S2, '&')\n",
        "teste_1.add_transition(S2, S4, 'b')\n",
        "teste_1.add_transition(S4, S5, 'b')\n",
        "teste_1.add_transition(S5, S6, '&')\n",
        "teste_1.add_transition(S6, S6, 'b,a')\n",
        "teste_1.add_transition(S6, S1, '&')\n",
        "\n",
        "\n",
        "\n",
        "\n",
        "# Imprime o resultado do passo I\n",
        "filename = 'grafos/Q1_grafo_1.dot'\n",
        "teste_1.print_graph(filename, view=False)\n",
        "imagename = filename + '.png'\n",
        "display(Image(filename=imagename))"
      ],
      "execution_count": 228,
      "outputs": [
        {
          "output_type": "display_data",
          "data": {
            "image/png": "[encoded data removed]",
            "text/plain": [
              "<IPython.core.display.Image object>"
            ]
          },
          "metadata": {
            "tags": []
          }
        }
      ]
    },
    {
      "cell_type": "code",
      "metadata": {
        "id": "h7op0NzerTYK",
        "colab_type": "code",
        "colab": {}
      },
      "source": [
        "#Vetores pra armazenar os epsilon fechos de cada estado. Vetor e[i] armazena o epsilon fecho do estado com label = 'i'\n",
        "#O correto seria adicionar no epsilon fecho de cada estado o próprio estado, mas para fins de praticidade iremos suprimir tal fato\n",
        "i = 0\n",
        "while i<teste_1.node_count:\n",
        "  e[i] = []\n",
        "  i +=1"
      ],
      "execution_count": 0,
      "outputs": []
    },
    {
      "cell_type": "code",
      "metadata": {
        "id": "NHbaBi0cVc_X",
        "colab_type": "code",
        "colab": {}
      },
      "source": [
        "i = 0\n",
        "while i < teste_1.node_count:\n",
        "  #Conversao de i (inteiro -> char)\n",
        "  p = chr(48+i)\n",
        "  \n",
        "  #Computando o epsilon fecho de todos os estados\n",
        "  for transition in teste_1.transitions:\n",
        "    if transition.from_state.label == p and transition.label == '&': \n",
        "      e[i].append(transition.to_state)\n",
        "      aux = transition.to_state\n",
        "      for transition in teste_1.transitions:\n",
        "        if transition.from_state == aux and transition.label == '&':\n",
        "         e[i].append(transition.to_state)\n",
        "         aux = transition.to_state\n",
        "         for transition in teste_1.transitions:\n",
        "            if transition.from_state == aux and transition.label == '&':\n",
        "              e[i].append(transition.to_state)\n",
        "              aux = transition.to_state\n",
        "              for transition in teste_1.transitions:\n",
        "                if transition.from_state == aux and transition.label == '&':\n",
        "                  e[i].append(transition.to_state)\n",
        "                  aux = transition.to_state\n",
        "                  for transition in teste_1.transitions:\n",
        "                    if transition.from_state == aux and transition.label == '&':\n",
        "                      e[i].append(transition.to_state)\n",
        "                      aux = transition.to_state\n",
        "                      for transition in teste_1.transitions:\n",
        "                        if transition.from_state == aux and transition.label == '&':\n",
        "                          e[i].append(transition.to_state)\n",
        "                         \n",
        "  \n",
        "  i+=1\n",
        "       \n",
        "\n",
        "    "
      ],
      "execution_count": 0,
      "outputs": []
    },
    {
      "cell_type": "code",
      "metadata": {
        "id": "dKzeemPUg69y",
        "colab_type": "code",
        "colab": {
          "base_uri": "https://localhost:8080/",
          "height": 231
        },
        "outputId": "36d5447c-92d7-4782-b8ee-25891a228c0b"
      },
      "source": [
        "#Todo arco de Y em A gera um arco de X em A, para cada Y no epsilon fecho de X\n",
        "i = 0\n",
        "I = chr(48+i)\n",
        "while i < teste_1.node_count:\n",
        "  #Para todos os estados que possuem e-fecho nao vazio\n",
        "  if e[i]:\n",
        "    for chegada in e[i]:\n",
        "      for transition in teste_1.transitions:\n",
        "        if transition.from_state.label == chegada.label:\n",
        "          #Adicionar arco do estado inicial para transition.to_state\n",
        "          teste_1.add_transition(teste_1.states[I] , transition.to_state, transition.label)\n",
        "          \n",
        "  \n",
        "  \n",
        "  \n",
        "  i += 1"
      ],
      "execution_count": 260,
      "outputs": [
        {
          "output_type": "error",
          "ename": "RuntimeError",
          "evalue": "ignored",
          "traceback": [
            "\u001b[0;31m---------------------------------------------------------------------------\u001b[0m",
            "\u001b[0;31mRuntimeError\u001b[0m                              Traceback (most recent call last)",
            "\u001b[0;32m<ipython-input-260-7a5d716fcd45>\u001b[0m in \u001b[0;36m<module>\u001b[0;34m()\u001b[0m\n\u001b[1;32m      5\u001b[0m   \u001b[0;32mif\u001b[0m \u001b[0me\u001b[0m\u001b[0;34m[\u001b[0m\u001b[0mi\u001b[0m\u001b[0;34m]\u001b[0m\u001b[0;34m:\u001b[0m\u001b[0;34m\u001b[0m\u001b[0;34m\u001b[0m\u001b[0m\n\u001b[1;32m      6\u001b[0m     \u001b[0;32mfor\u001b[0m \u001b[0mchegada\u001b[0m \u001b[0;32min\u001b[0m \u001b[0me\u001b[0m\u001b[0;34m[\u001b[0m\u001b[0mi\u001b[0m\u001b[0;34m]\u001b[0m\u001b[0;34m:\u001b[0m\u001b[0;34m\u001b[0m\u001b[0;34m\u001b[0m\u001b[0m\n\u001b[0;32m----> 7\u001b[0;31m       \u001b[0;32mfor\u001b[0m \u001b[0mtransition\u001b[0m \u001b[0;32min\u001b[0m \u001b[0mteste_1\u001b[0m\u001b[0;34m.\u001b[0m\u001b[0mtransitions\u001b[0m\u001b[0;34m:\u001b[0m\u001b[0;34m\u001b[0m\u001b[0;34m\u001b[0m\u001b[0m\n\u001b[0m\u001b[1;32m      8\u001b[0m         \u001b[0;32mif\u001b[0m \u001b[0mtransition\u001b[0m\u001b[0;34m.\u001b[0m\u001b[0mfrom_state\u001b[0m\u001b[0;34m.\u001b[0m\u001b[0mlabel\u001b[0m \u001b[0;34m==\u001b[0m \u001b[0mchegada\u001b[0m\u001b[0;34m.\u001b[0m\u001b[0mlabel\u001b[0m\u001b[0;34m:\u001b[0m\u001b[0;34m\u001b[0m\u001b[0;34m\u001b[0m\u001b[0m\n\u001b[1;32m      9\u001b[0m           \u001b[0;31m#Adicionar arco do estado inicial para transition.to_state\u001b[0m\u001b[0;34m\u001b[0m\u001b[0;34m\u001b[0m\u001b[0;34m\u001b[0m\u001b[0m\n",
            "\u001b[0;31mRuntimeError\u001b[0m: Set changed size during iteration"
          ]
        }
      ]
    }
  ]
}